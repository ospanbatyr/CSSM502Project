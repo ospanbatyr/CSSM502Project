{
 "cells": [
  {
   "cell_type": "code",
   "execution_count": 2,
   "id": "c3869308-c23a-423f-8383-a0f65b153a49",
   "metadata": {},
   "outputs": [
    {
     "name": "stderr",
     "output_type": "stream",
     "text": [
      "/Users/obi/opt/miniconda3/envs/dl/lib/python3.11/site-packages/tqdm/auto.py:21: TqdmWarning: IProgress not found. Please update jupyter and ipywidgets. See https://ipywidgets.readthedocs.io/en/stable/user_install.html\n",
      "  from .autonotebook import tqdm as notebook_tqdm\n"
     ]
    }
   ],
   "source": [
    "import torch\n",
    "import torch.nn as nn\n",
    "from torch.utils.data import Dataset, DataLoader\n",
    "from torch.optim import AdamW\n",
    "from transformers import AutoTokenizer,  AutoModelForSequenceClassification\n",
    "from sklearn.model_selection import train_test_split\n",
    "from tqdm import tqdm, trange\n",
    "from sklearn.utils.class_weight import compute_class_weight\n",
    "from sklearn.utils import shuffle\n",
    "import pandas as pd\n",
    "import numpy as np"
   ]
  },
  {
   "cell_type": "code",
   "execution_count": 3,
   "id": "dc037556-0690-49b8-8354-c4be014b5c47",
   "metadata": {},
   "outputs": [],
   "source": [
    "# Load the main dataset\n",
    "file_path = \"dataset.tsv\"\n",
    "df = pd.read_csv(file_path, sep='\\t')"
   ]
  },
  {
   "cell_type": "code",
   "execution_count": 8,
   "id": "593f3a69-5930-4602-aa8d-ff8e4d47546f",
   "metadata": {},
   "outputs": [
    {
     "data": {
      "text/html": [
       "<div>\n",
       "<style scoped>\n",
       "    .dataframe tbody tr th:only-of-type {\n",
       "        vertical-align: middle;\n",
       "    }\n",
       "\n",
       "    .dataframe tbody tr th {\n",
       "        vertical-align: top;\n",
       "    }\n",
       "\n",
       "    .dataframe thead th {\n",
       "        text-align: right;\n",
       "    }\n",
       "</style>\n",
       "<table border=\"1\" class=\"dataframe\">\n",
       "  <thead>\n",
       "    <tr style=\"text-align: right;\">\n",
       "      <th></th>\n",
       "      <th>Comment</th>\n",
       "      <th>Score</th>\n",
       "      <th>Link</th>\n",
       "      <th>Brand</th>\n",
       "      <th>Type</th>\n",
       "    </tr>\n",
       "  </thead>\n",
       "  <tbody>\n",
       "    <tr>\n",
       "      <th>0</th>\n",
       "      <td>ürün güzel ve sağlam ulaştı..1 yıldız kırma se...</td>\n",
       "      <td>4</td>\n",
       "      <td>https://trendyol.com/onvo/32ov6000h-32-hd-read...</td>\n",
       "      <td>onvo</td>\n",
       "      <td>Television</td>\n",
       "    </tr>\n",
       "    <tr>\n",
       "      <th>1</th>\n",
       "      <td>kaliteli hızlı kargo ve teslimat</td>\n",
       "      <td>5</td>\n",
       "      <td>https://trendyol.com/onvo/32ov6000h-32-hd-read...</td>\n",
       "      <td>onvo</td>\n",
       "      <td>Television</td>\n",
       "    </tr>\n",
       "    <tr>\n",
       "      <th>2</th>\n",
       "      <td>Ürün gayeten güzel, paketleme siz çok iyiydi.</td>\n",
       "      <td>5</td>\n",
       "      <td>https://trendyol.com/onvo/32ov6000h-32-hd-read...</td>\n",
       "      <td>onvo</td>\n",
       "      <td>Television</td>\n",
       "    </tr>\n",
       "    <tr>\n",
       "      <th>3</th>\n",
       "      <td>Cok guzeeeel</td>\n",
       "      <td>4</td>\n",
       "      <td>https://trendyol.com/onvo/32ov6000h-32-hd-read...</td>\n",
       "      <td>onvo</td>\n",
       "      <td>Television</td>\n",
       "    </tr>\n",
       "    <tr>\n",
       "      <th>4</th>\n",
       "      <td>Ürünüm koşa sürede hasarsız ulaştı kırık yoktu...</td>\n",
       "      <td>5</td>\n",
       "      <td>https://trendyol.com/onvo/32ov6000h-32-hd-read...</td>\n",
       "      <td>onvo</td>\n",
       "      <td>Television</td>\n",
       "    </tr>\n",
       "    <tr>\n",
       "      <th>...</th>\n",
       "      <td>...</td>\n",
       "      <td>...</td>\n",
       "      <td>...</td>\n",
       "      <td>...</td>\n",
       "      <td>...</td>\n",
       "    </tr>\n",
       "    <tr>\n",
       "      <th>40445</th>\n",
       "      <td>Bugün kurulumu oldu daha kullanmadım ama profi...</td>\n",
       "      <td>5</td>\n",
       "      <td>https://www.trendyol.com/profilo/km961rctr-9-k...</td>\n",
       "      <td>profilo</td>\n",
       "      <td>Dryer</td>\n",
       "    </tr>\n",
       "    <tr>\n",
       "      <th>40446</th>\n",
       "      <td>Servis ürünü kurmaya geldi ürünü açtı ürün kır...</td>\n",
       "      <td>1</td>\n",
       "      <td>https://www.trendyol.com/profilo/km961rctr-9-k...</td>\n",
       "      <td>profilo</td>\n",
       "      <td>Dryer</td>\n",
       "    </tr>\n",
       "    <tr>\n",
       "      <th>40447</th>\n",
       "      <td>profilodan şaşmam. kurutmasini deneyip göreceğ...</td>\n",
       "      <td>5</td>\n",
       "      <td>https://www.trendyol.com/profilo/km961rctr-9-k...</td>\n",
       "      <td>profilo</td>\n",
       "      <td>Dryer</td>\n",
       "    </tr>\n",
       "    <tr>\n",
       "      <th>40448</th>\n",
       "      <td>lütfen insanları mağdur etmemek için borusan l...</td>\n",
       "      <td>2</td>\n",
       "      <td>https://www.trendyol.com/profilo/km961rctr-9-k...</td>\n",
       "      <td>profilo</td>\n",
       "      <td>Dryer</td>\n",
       "    </tr>\n",
       "    <tr>\n",
       "      <th>40449</th>\n",
       "      <td>gayet güzel sadece çamaşır makinesine göre bir...</td>\n",
       "      <td>5</td>\n",
       "      <td>https://www.trendyol.com/profilo/km961rctr-9-k...</td>\n",
       "      <td>profilo</td>\n",
       "      <td>Dryer</td>\n",
       "    </tr>\n",
       "  </tbody>\n",
       "</table>\n",
       "<p>40450 rows × 5 columns</p>\n",
       "</div>"
      ],
      "text/plain": [
       "                                                 Comment  Score  \\\n",
       "0      ürün güzel ve sağlam ulaştı..1 yıldız kırma se...      4   \n",
       "1                       kaliteli hızlı kargo ve teslimat      5   \n",
       "2          Ürün gayeten güzel, paketleme siz çok iyiydi.      5   \n",
       "3                                           Cok guzeeeel      4   \n",
       "4      Ürünüm koşa sürede hasarsız ulaştı kırık yoktu...      5   \n",
       "...                                                  ...    ...   \n",
       "40445  Bugün kurulumu oldu daha kullanmadım ama profi...      5   \n",
       "40446  Servis ürünü kurmaya geldi ürünü açtı ürün kır...      1   \n",
       "40447  profilodan şaşmam. kurutmasini deneyip göreceğ...      5   \n",
       "40448  lütfen insanları mağdur etmemek için borusan l...      2   \n",
       "40449  gayet güzel sadece çamaşır makinesine göre bir...      5   \n",
       "\n",
       "                                                    Link    Brand        Type  \n",
       "0      https://trendyol.com/onvo/32ov6000h-32-hd-read...     onvo  Television  \n",
       "1      https://trendyol.com/onvo/32ov6000h-32-hd-read...     onvo  Television  \n",
       "2      https://trendyol.com/onvo/32ov6000h-32-hd-read...     onvo  Television  \n",
       "3      https://trendyol.com/onvo/32ov6000h-32-hd-read...     onvo  Television  \n",
       "4      https://trendyol.com/onvo/32ov6000h-32-hd-read...     onvo  Television  \n",
       "...                                                  ...      ...         ...  \n",
       "40445  https://www.trendyol.com/profilo/km961rctr-9-k...  profilo       Dryer  \n",
       "40446  https://www.trendyol.com/profilo/km961rctr-9-k...  profilo       Dryer  \n",
       "40447  https://www.trendyol.com/profilo/km961rctr-9-k...  profilo       Dryer  \n",
       "40448  https://www.trendyol.com/profilo/km961rctr-9-k...  profilo       Dryer  \n",
       "40449  https://www.trendyol.com/profilo/km961rctr-9-k...  profilo       Dryer  \n",
       "\n",
       "[40450 rows x 5 columns]"
      ]
     },
     "execution_count": 8,
     "metadata": {},
     "output_type": "execute_result"
    }
   ],
   "source": [
    "# See examples from the dataset\n",
    "df"
   ]
  },
  {
   "cell_type": "code",
   "execution_count": 9,
   "id": "bdf9ceaa-7680-4cb4-b10e-10d20ec24d1f",
   "metadata": {},
   "outputs": [
    {
     "data": {
      "text/plain": [
       "(415, 77)"
      ]
     },
     "execution_count": 9,
     "metadata": {},
     "output_type": "execute_result"
    }
   ],
   "source": [
    "# See brand and type counts\n",
    "len(set(df['Brand'])), len(set(df['Type']))"
   ]
  },
  {
   "cell_type": "code",
   "execution_count": 10,
   "id": "5b0399e7-05ab-4dd8-9739-a4817d9e8bca",
   "metadata": {},
   "outputs": [
    {
     "data": {
      "text/plain": [
       "{'Air conditioner',\n",
       " 'Air humidifier',\n",
       " 'Appliance spare parts',\n",
       " 'Aspirator',\n",
       " 'Beverage preparation',\n",
       " 'Bluetooth headphones',\n",
       " 'Boiler',\n",
       " 'Charger',\n",
       " 'Coffee maker',\n",
       " 'Computer',\n",
       " 'Computer components',\n",
       " 'Computer games',\n",
       " 'Computer spare parts',\n",
       " 'Computer tablet accessories',\n",
       " 'Console accessories',\n",
       " 'Data storage',\n",
       " 'Dishwasher',\n",
       " 'Dryer',\n",
       " 'Electronic trousseau set',\n",
       " 'Epilator',\n",
       " 'Fan',\n",
       " 'Food preparation',\n",
       " 'Freezer',\n",
       " 'Game consoles',\n",
       " 'Gaming computer',\n",
       " 'Gaming headphones',\n",
       " 'Hair dryer',\n",
       " 'Hair straightener',\n",
       " 'Hairdressing table',\n",
       " 'Heater',\n",
       " 'Home theater system',\n",
       " 'Hoods',\n",
       " 'In-ear headphones',\n",
       " 'Instant water heater',\n",
       " 'Ipl laser hair removal devices',\n",
       " 'Iron',\n",
       " 'Joystick',\n",
       " 'Keyboard',\n",
       " 'Laptop',\n",
       " 'Laser printer',\n",
       " 'Microwave oven',\n",
       " 'Mini Refrigerator',\n",
       " 'Mini midi oven',\n",
       " 'Mobile phone',\n",
       " 'Monitor',\n",
       " 'Mouse',\n",
       " 'Music system',\n",
       " 'On-ear headphones',\n",
       " 'Other electric cookers',\n",
       " 'Oven',\n",
       " 'Over-ear bluetooth headphones',\n",
       " 'Phone accessories',\n",
       " 'Playstation consoles',\n",
       " 'Portable cooler',\n",
       " 'Powerbank',\n",
       " 'Printer',\n",
       " 'Printer scanner',\n",
       " 'Projection device',\n",
       " 'Refrigerator',\n",
       " 'Robot vacuum',\n",
       " 'Robot vacuum cleaner',\n",
       " 'Satellite receiver',\n",
       " 'Shaver',\n",
       " 'Smart TV',\n",
       " 'Smart lighting',\n",
       " 'Smartphone',\n",
       " 'Smartwatch',\n",
       " 'Soundbar',\n",
       " 'Tablet',\n",
       " 'Television',\n",
       " 'Toaster',\n",
       " 'Vacuum cleaner',\n",
       " 'Washing machine',\n",
       " 'Water dispenser',\n",
       " 'Wi-fi modem',\n",
       " 'Wireless headphones',\n",
       " 'Xbox consoles'}"
      ]
     },
     "execution_count": 10,
     "metadata": {},
     "output_type": "execute_result"
    }
   ],
   "source": [
    "# See the types\n",
    "set(df['Type'])"
   ]
  },
  {
   "cell_type": "code",
   "execution_count": 3,
   "id": "65ce2dfd-77f2-48d0-be68-0611ad987150",
   "metadata": {},
   "outputs": [
    {
     "data": {
      "text/plain": [
       "<Axes: ylabel='count'>"
      ]
     },
     "execution_count": 3,
     "metadata": {},
     "output_type": "execute_result"
    },
    {
     "data": {
      "image/png": "[encoded data removed]",
      "text/plain": [
       "<Figure size 640x480 with 1 Axes>"
      ]
     },
     "metadata": {},
     "output_type": "display_data"
    }
   ],
   "source": [
    "# Check the score distribution\n",
    "df['Score'].value_counts().plot.pie()"
   ]
  },
  {
   "cell_type": "code",
   "execution_count": 4,
   "id": "546817b3-fef7-48c1-abf5-4d5d122049da",
   "metadata": {},
   "outputs": [],
   "source": [
    "# Perform experimental undersampling\n",
    "df = df.drop(df[df['Score'] == 5].sample(frac=.9).index)\n",
    "df = df.drop(df[df['Score'] == 4].sample(frac=.5).index)"
   ]
  },
  {
   "cell_type": "code",
   "execution_count": 5,
   "id": "78a89cd9-3275-4132-afee-d5d0f44666f1",
   "metadata": {},
   "outputs": [
    {
     "data": {
      "text/plain": [
       "<Axes: ylabel='count'>"
      ]
     },
     "execution_count": 5,
     "metadata": {},
     "output_type": "execute_result"
    },
    {
     "data": {
      "image/png": "[encoded data removed]",
      "text/plain": [
       "<Figure size 640x480 with 1 Axes>"
      ]
     },
     "metadata": {},
     "output_type": "display_data"
    }
   ],
   "source": [
    "# Re-check the score distribution\n",
    "df['Score'].value_counts().plot.pie()"
   ]
  },
  {
   "cell_type": "code",
   "execution_count": 6,
   "id": "b4d3f140-c637-4aa3-98fc-286c3ce53df1",
   "metadata": {},
   "outputs": [],
   "source": [
    "# Split the data into training and testing sets\n",
    "X_train, X_test, y_train, y_test = train_test_split(df[\"Comment\"], df['Score'], test_size=0.2, random_state=42)"
   ]
  },
  {
   "cell_type": "code",
   "execution_count": 19,
   "id": "462de3d7-de6f-430b-a72c-74183d3b4127",
   "metadata": {},
   "outputs": [
    {
     "data": {
      "text/html": [
       "<div>\n",
       "<style scoped>\n",
       "    .dataframe tbody tr th:only-of-type {\n",
       "        vertical-align: middle;\n",
       "    }\n",
       "\n",
       "    .dataframe tbody tr th {\n",
       "        vertical-align: top;\n",
       "    }\n",
       "\n",
       "    .dataframe thead th {\n",
       "        text-align: right;\n",
       "    }\n",
       "</style>\n",
       "<table border=\"1\" class=\"dataframe\">\n",
       "  <thead>\n",
       "    <tr style=\"text-align: right;\">\n",
       "      <th></th>\n",
       "      <th>Comment</th>\n",
       "      <th>Score</th>\n",
       "      <th>Link</th>\n",
       "      <th>Brand</th>\n",
       "      <th>Type</th>\n",
       "    </tr>\n",
       "  </thead>\n",
       "  <tbody>\n",
       "    <tr>\n",
       "      <th>1</th>\n",
       "      <td>kaliteli hızlı kargo ve teslimat</td>\n",
       "      <td>5</td>\n",
       "      <td>https://trendyol.com/onvo/32ov6000h-32-hd-read...</td>\n",
       "      <td>onvo</td>\n",
       "      <td>Television</td>\n",
       "    </tr>\n",
       "    <tr>\n",
       "      <th>3</th>\n",
       "      <td>Cok guzeeeel</td>\n",
       "      <td>4</td>\n",
       "      <td>https://trendyol.com/onvo/32ov6000h-32-hd-read...</td>\n",
       "      <td>onvo</td>\n",
       "      <td>Television</td>\n",
       "    </tr>\n",
       "    <tr>\n",
       "      <th>8</th>\n",
       "      <td>Televizyon ekranı yarısı komple kırık bir şeki...</td>\n",
       "      <td>1</td>\n",
       "      <td>https://trendyol.com/onvo/32ov6000h-32-hd-read...</td>\n",
       "      <td>onvo</td>\n",
       "      <td>Television</td>\n",
       "    </tr>\n",
       "    <tr>\n",
       "      <th>12</th>\n",
       "      <td>10 numara cok iyi</td>\n",
       "      <td>5</td>\n",
       "      <td>https://trendyol.com/onvo/32ov6000h-32-hd-read...</td>\n",
       "      <td>onvo</td>\n",
       "      <td>Television</td>\n",
       "    </tr>\n",
       "    <tr>\n",
       "      <th>13</th>\n",
       "      <td>kaliteli Güzel</td>\n",
       "      <td>5</td>\n",
       "      <td>https://trendyol.com/onvo/32ov6000h-32-hd-read...</td>\n",
       "      <td>onvo</td>\n",
       "      <td>Television</td>\n",
       "    </tr>\n",
       "  </tbody>\n",
       "</table>\n",
       "</div>"
      ],
      "text/plain": [
       "                                              Comment  Score  \\\n",
       "1                    kaliteli hızlı kargo ve teslimat      5   \n",
       "3                                        Cok guzeeeel      4   \n",
       "8   Televizyon ekranı yarısı komple kırık bir şeki...      1   \n",
       "12                                  10 numara cok iyi      5   \n",
       "13                                     kaliteli Güzel      5   \n",
       "\n",
       "                                                 Link Brand        Type  \n",
       "1   https://trendyol.com/onvo/32ov6000h-32-hd-read...  onvo  Television  \n",
       "3   https://trendyol.com/onvo/32ov6000h-32-hd-read...  onvo  Television  \n",
       "8   https://trendyol.com/onvo/32ov6000h-32-hd-read...  onvo  Television  \n",
       "12  https://trendyol.com/onvo/32ov6000h-32-hd-read...  onvo  Television  \n",
       "13  https://trendyol.com/onvo/32ov6000h-32-hd-read...  onvo  Television  "
      ]
     },
     "execution_count": 19,
     "metadata": {},
     "output_type": "execute_result"
    }
   ],
   "source": [
    "df.head()"
   ]
  },
  {
   "cell_type": "code",
   "execution_count": 7,
   "id": "7dee8cfb-8853-44f8-9ccf-d62728b30e17",
   "metadata": {},
   "outputs": [
    {
     "data": {
      "text/html": [
       "<div>\n",
       "<style scoped>\n",
       "    .dataframe tbody tr th:only-of-type {\n",
       "        vertical-align: middle;\n",
       "    }\n",
       "\n",
       "    .dataframe tbody tr th {\n",
       "        vertical-align: top;\n",
       "    }\n",
       "\n",
       "    .dataframe thead th {\n",
       "        text-align: right;\n",
       "    }\n",
       "</style>\n",
       "<table border=\"1\" class=\"dataframe\">\n",
       "  <thead>\n",
       "    <tr style=\"text-align: right;\">\n",
       "      <th></th>\n",
       "      <th>Score</th>\n",
       "    </tr>\n",
       "  </thead>\n",
       "  <tbody>\n",
       "    <tr>\n",
       "      <th>count</th>\n",
       "      <td>9308.000000</td>\n",
       "    </tr>\n",
       "    <tr>\n",
       "      <th>mean</th>\n",
       "      <td>3.454985</td>\n",
       "    </tr>\n",
       "    <tr>\n",
       "      <th>std</th>\n",
       "      <td>1.519832</td>\n",
       "    </tr>\n",
       "    <tr>\n",
       "      <th>min</th>\n",
       "      <td>1.000000</td>\n",
       "    </tr>\n",
       "    <tr>\n",
       "      <th>25%</th>\n",
       "      <td>2.000000</td>\n",
       "    </tr>\n",
       "    <tr>\n",
       "      <th>50%</th>\n",
       "      <td>4.000000</td>\n",
       "    </tr>\n",
       "    <tr>\n",
       "      <th>75%</th>\n",
       "      <td>5.000000</td>\n",
       "    </tr>\n",
       "    <tr>\n",
       "      <th>max</th>\n",
       "      <td>5.000000</td>\n",
       "    </tr>\n",
       "  </tbody>\n",
       "</table>\n",
       "</div>"
      ],
      "text/plain": [
       "             Score\n",
       "count  9308.000000\n",
       "mean      3.454985\n",
       "std       1.519832\n",
       "min       1.000000\n",
       "25%       2.000000\n",
       "50%       4.000000\n",
       "75%       5.000000\n",
       "max       5.000000"
      ]
     },
     "execution_count": 7,
     "metadata": {},
     "output_type": "execute_result"
    }
   ],
   "source": [
    "# We can see that the dataset is undersampled drastically\n",
    "df.describe()"
   ]
  },
  {
   "cell_type": "code",
   "execution_count": 8,
   "id": "3784ecf8-ff8f-4ed8-8986-8a10e9329ff0",
   "metadata": {},
   "outputs": [],
   "source": [
    "# For more information, please check this link: https://scikit-learn.org/stable/modules/generated/sklearn.utils.class_weight.compute_class_weight.html\n",
    "class_weights = compute_class_weight('balanced', classes=np.unique(y_train), y=y_train)"
   ]
  },
  {
   "cell_type": "code",
   "execution_count": 9,
   "id": "ed512233-5853-44c4-a3eb-a7c6f27dde20",
   "metadata": {},
   "outputs": [
    {
     "data": {
      "text/plain": [
       "array([1, 2, 3, 4, 5])"
      ]
     },
     "execution_count": 9,
     "metadata": {},
     "output_type": "execute_result"
    }
   ],
   "source": [
    "# Check classes and their weights\n",
    "np.unique(y_train)"
   ]
  },
  {
   "cell_type": "code",
   "execution_count": 10,
   "id": "bbf4de30-da41-46c6-b3ab-cc8b63e07aa5",
   "metadata": {},
   "outputs": [
    {
     "data": {
      "text/plain": [
       "array([0.95706941, 3.51226415, 1.35505005, 0.82871452, 0.57945525])"
      ]
     },
     "execution_count": 10,
     "metadata": {},
     "output_type": "execute_result"
    }
   ],
   "source": [
    "class_weights"
   ]
  },
  {
   "cell_type": "code",
   "execution_count": 11,
   "id": "5ac1d37b-bb3c-4e76-8faa-715e4c10b4c2",
   "metadata": {},
   "outputs": [
    {
     "name": "stderr",
     "output_type": "stream",
     "text": [
      "Some weights of DistilBertForSequenceClassification were not initialized from the model checkpoint at dbmdz/distilbert-base-turkish-cased and are newly initialized: ['pre_classifier.weight', 'classifier.bias', 'pre_classifier.bias', 'classifier.weight']\n",
      "You should probably TRAIN this model on a down-stream task to be able to use it for predictions and inference.\n"
     ]
    }
   ],
   "source": [
    "from transformers import BertTokenizer, BertForSequenceClassification, DistilBertTokenizer, DistilBertForSequenceClassification\n",
    "\n",
    "# Load pre-trained Turkish BERT model and tokenizer\n",
    "model_name = 'dbmdz/distilbert-base-turkish-cased'\n",
    "tokenizer = DistilBertTokenizer.from_pretrained(model_name)\n",
    "model = DistilBertForSequenceClassification.from_pretrained(model_name, num_labels=5)\n",
    "\n",
    "# We used the following lines  to freeze some of the parameters but it did not work well\n",
    "\n",
    "#for name, param in model.named_parameters():\n",
    "#    if \"classifier\" not in name:\n",
    "#        param.requires_grad = False\n",
    "#    else:\n",
    "#        param.requires_grad = True"
   ]
  },
  {
   "cell_type": "code",
   "execution_count": 12,
   "id": "3cdc087e-f22b-4ce6-97d3-7441f0320ac1",
   "metadata": {},
   "outputs": [],
   "source": [
    "# Tokenize the input data\n",
    "X_train_tokens = tokenizer(list(X_train), padding=True, truncation=True, return_tensors='pt', max_length=512)\n",
    "X_test_tokens = tokenizer(list(X_test), padding=True, truncation=True, return_tensors='pt', max_length=512)"
   ]
  },
  {
   "cell_type": "code",
   "execution_count": 13,
   "id": "450a9227-e55e-4766-a2cb-96b1ec00fefe",
   "metadata": {},
   "outputs": [],
   "source": [
    "# Create the dataset and DataLoader for training and testing sets\n",
    "class ReviewDataset(Dataset):\n",
    "    def __init__(self, tokens, labels):\n",
    "        self.tokens = tokens\n",
    "        self.labels = labels\n",
    "\n",
    "    def __len__(self):\n",
    "        return len(self.labels)\n",
    "\n",
    "    def __getitem__(self, idx):\n",
    "        return {\n",
    "            'input_ids': self.tokens['input_ids'][idx],\n",
    "            'attention_mask': self.tokens['attention_mask'][idx],\n",
    "            'labels': torch.tensor(self.labels.iloc[idx], dtype=torch.long)\n",
    "        }\n",
    "\n",
    "from torch.utils.data import DataLoader\n",
    "\n",
    "train_dataset = ReviewDataset(X_train_tokens, y_train)\n",
    "test_dataset = ReviewDataset(X_test_tokens, y_test)\n",
    "\n",
    "batch_size = 32\n",
    "train_dataloader = DataLoader(train_dataset, batch_size=batch_size, shuffle=True)\n",
    "test_dataloader = DataLoader(test_dataset, batch_size=batch_size, shuffle=False)"
   ]
  },
  {
   "cell_type": "code",
   "execution_count": 14,
   "id": "70e95f88-670a-4d1e-8381-5dfd5b096966",
   "metadata": {},
   "outputs": [
    {
     "name": "stderr",
     "output_type": "stream",
     "text": [
      "100%|██████████████████████████████████████████████████████████████████████████████████████████████████████████████████████████████████████████████| 233/233 [04:46<00:00,  1.23s/it]\n"
     ]
    },
    {
     "name": "stdout",
     "output_type": "stream",
     "text": [
      "Epoch 1/3, Loss: 1.2050476662590779\n"
     ]
    },
    {
     "name": "stderr",
     "output_type": "stream",
     "text": [
      "100%|██████████████████████████████████████████████████████████████████████████████████████████████████████████████████████████████████████████████| 233/233 [04:46<00:00,  1.23s/it]\n"
     ]
    },
    {
     "name": "stdout",
     "output_type": "stream",
     "text": [
      "Epoch 2/3, Loss: 0.9989255963476942\n"
     ]
    },
    {
     "name": "stderr",
     "output_type": "stream",
     "text": [
      "100%|██████████████████████████████████████████████████████████████████████████████████████████████████████████████████████████████████████████████| 233/233 [04:46<00:00,  1.23s/it]"
     ]
    },
    {
     "name": "stdout",
     "output_type": "stream",
     "text": [
      "Epoch 3/3, Loss: 0.9014377293412777\n"
     ]
    },
    {
     "name": "stderr",
     "output_type": "stream",
     "text": [
      "\n"
     ]
    }
   ],
   "source": [
    "# Set up training parameters, these parameters are pretty standard for BERT models\n",
    "optimizer = AdamW(model.parameters(), lr=2e-5, weight_decay=5e-6)\n",
    "epochs = 3\n",
    "\n",
    "# Training loop, define our loss function and finetune the model\n",
    "device = torch.device('mps')\n",
    "model.to(device)\n",
    "criterion = nn.CrossEntropyLoss().to(device) #\n",
    "\n",
    "for epoch in range(epochs):\n",
    "    model.train()\n",
    "    total_loss = 0\n",
    "\n",
    "    for batch in tqdm(train_dataloader):\n",
    "        input_ids = batch['input_ids'].to(device)\n",
    "        attention_mask = batch['attention_mask'].to(device)\n",
    "        labels = (batch['labels'] - 1).to(device)\n",
    "\n",
    "        optimizer.zero_grad()\n",
    "        outputs = model(input_ids, attention_mask=attention_mask, labels=labels)\n",
    "        loss = criterion(outputs.logits, labels)\n",
    "        loss.backward()\n",
    "        optimizer.step()\n",
    "\n",
    "        total_loss += loss.item()\n",
    "\n",
    "    avg_loss = total_loss / len(train_dataloader)\n",
    "    print(f'Epoch {epoch + 1}/{epochs}, Loss: {avg_loss}')"
   ]
  },
  {
   "cell_type": "code",
   "execution_count": 15,
   "id": "785dbfa6-b22b-48fd-a026-d6403715e449",
   "metadata": {},
   "outputs": [
    {
     "name": "stderr",
     "output_type": "stream",
     "text": [
      "100%|████████████████████████████████████████████████████████████████████████████████████████████████████████████████████████████████████████████████| 59/59 [00:09<00:00,  6.27it/s]\n"
     ]
    }
   ],
   "source": [
    "# Evaluate our model on the test set after training\n",
    "model.eval()\n",
    "all_predictions = []\n",
    "true_labels = []\n",
    "\n",
    "with torch.no_grad():\n",
    "    for batch in tqdm(test_dataloader):\n",
    "        input_ids = batch['input_ids'].to(device)\n",
    "        attention_mask = batch['attention_mask'].to(device)\n",
    "        labels = (batch['labels'] - 1).to(device)\n",
    "\n",
    "        outputs = model(input_ids, attention_mask=attention_mask)\n",
    "        predictions = torch.argmax(outputs.logits, dim=1)\n",
    "\n",
    "        all_predictions.extend(predictions.cpu().numpy() + 1)\n",
    "        true_labels.extend(labels.cpu().numpy() + 1)"
   ]
  },
  {
   "cell_type": "markdown",
   "id": "1c15ee24-6931-4843-a842-0b450cd92b69",
   "metadata": {},
   "source": [
    "**Here, you can see some of the experiments that we ran. Nonetheless, we could not acquire a nice result compared to other baselines.**\n",
    "\n",
    "```\n",
    "Zero Addition\n",
    "\n",
    "Precision: 0.47874842353527436\n",
    "Recall: 0.6177062374245473\n",
    "F1 Score: 0.5225779740886669\n",
    "Accuracy: 0.6177062374245473\n",
    "\n",
    "Undersample 4000 Positive Examples\n",
    "\n",
    "Precision: 0.45119181230292343\n",
    "Recall: 0.5050505050505051\n",
    "F1 Score: 0.4584380937185949\n",
    "Accuracy: 0.5050505050505051\n",
    "\n",
    "New Full Dataset - DistilBert\n",
    "\n",
    "Precision: 0.6730893493009384\n",
    "Recall: 0.5914709517923362\n",
    "F1 Score: 0.6181233191269568\n",
    "Accuracy: 0.5914709517923362\n",
    "\n",
    "New Full Dataset - Sampled - DistilBert\n",
    "\n",
    "Precision: 0.5874430440605886\n",
    "Recall: 0.5821697099892589\n",
    "F1 Score: 0.5817278030173941\n",
    "Accuracy: 0.5821697099892589\n",
    "\n",
    "New Full Dataset - Sampled - No Class Weights\n",
    "\n",
    "Precision: 0.5533514300057746\n",
    "Recall: 0.5918367346938775\n",
    "F1 Score: 0.5692876208664942\n",
    "Accuracy: 0.5918367346938775\n",
    "```"
   ]
  },
  {
   "cell_type": "code",
   "execution_count": 16,
   "id": "e9e44154-e078-434b-88fa-59effe8f6d01",
   "metadata": {},
   "outputs": [
    {
     "name": "stdout",
     "output_type": "stream",
     "text": [
      "\n",
      "Classification Report:\n",
      "               precision    recall  f1-score   support\n",
      "\n",
      "           1       0.69      0.87      0.77       398\n",
      "           2       0.00      0.00      0.00        98\n",
      "           3       0.36      0.42      0.39       279\n",
      "           4       0.45      0.37      0.41       446\n",
      "           5       0.71      0.73      0.72       641\n",
      "\n",
      "    accuracy                           0.59      1862\n",
      "   macro avg       0.44      0.48      0.46      1862\n",
      "weighted avg       0.55      0.59      0.57      1862\n",
      "\n",
      "\n",
      "Confusion Matrix:\n",
      " [[347   0  45   3   3]\n",
      " [ 67   0  22   5   4]\n",
      " [ 60   0 117  69  33]\n",
      " [ 15   0 111 167 153]\n",
      " [ 12   0  27 131 471]]\n",
      "\n",
      "Precision: 0.5533514300057746\n",
      "Recall: 0.5918367346938775\n",
      "F1 Score: 0.5692876208664942\n",
      "Accuracy: 0.5918367346938775\n"
     ]
    },
    {
     "name": "stderr",
     "output_type": "stream",
     "text": [
      "/Users/obi/opt/miniconda3/envs/dl/lib/python3.11/site-packages/sklearn/metrics/_classification.py:1471: UndefinedMetricWarning: Precision and F-score are ill-defined and being set to 0.0 in labels with no predicted samples. Use `zero_division` parameter to control this behavior.\n",
      "  _warn_prf(average, modifier, msg_start, len(result))\n",
      "/Users/obi/opt/miniconda3/envs/dl/lib/python3.11/site-packages/sklearn/metrics/_classification.py:1471: UndefinedMetricWarning: Precision and F-score are ill-defined and being set to 0.0 in labels with no predicted samples. Use `zero_division` parameter to control this behavior.\n",
      "  _warn_prf(average, modifier, msg_start, len(result))\n",
      "/Users/obi/opt/miniconda3/envs/dl/lib/python3.11/site-packages/sklearn/metrics/_classification.py:1471: UndefinedMetricWarning: Precision and F-score are ill-defined and being set to 0.0 in labels with no predicted samples. Use `zero_division` parameter to control this behavior.\n",
      "  _warn_prf(average, modifier, msg_start, len(result))\n",
      "/Users/obi/opt/miniconda3/envs/dl/lib/python3.11/site-packages/sklearn/metrics/_classification.py:1471: UndefinedMetricWarning: Precision and F-score are ill-defined and being set to 0.0 in labels with no predicted samples. Use `zero_division` parameter to control this behavior.\n",
      "  _warn_prf(average, modifier, msg_start, len(result))\n",
      "/Users/obi/opt/miniconda3/envs/dl/lib/python3.11/site-packages/sklearn/metrics/_classification.py:1471: UndefinedMetricWarning: Precision and F-score are ill-defined and being set to 0.0 in labels with no predicted samples. Use `zero_division` parameter to control this behavior.\n",
      "  _warn_prf(average, modifier, msg_start, len(result))\n",
      "/Users/obi/opt/miniconda3/envs/dl/lib/python3.11/site-packages/sklearn/metrics/_classification.py:1471: UndefinedMetricWarning: Precision and F-score are ill-defined and being set to 0.0 in labels with no predicted samples. Use `zero_division` parameter to control this behavior.\n",
      "  _warn_prf(average, modifier, msg_start, len(result))\n"
     ]
    }
   ],
   "source": [
    "from sklearn.metrics import accuracy_score, classification_report, confusion_matrix\n",
    "\n",
    "# Calculate precision, recall, and F1 score\n",
    "report = classification_report(true_labels, all_predictions, output_dict=True)\n",
    "precision = report['weighted avg']['precision']\n",
    "recall = report['weighted avg']['recall']\n",
    "f1 = report['weighted avg']['f1-score']\n",
    "\n",
    "# Display the classification report and confusion matrix\n",
    "# Note: Actually, BERT model has better averaged precision, recall, and F1 scores\n",
    "#       But the overall accuracy is significantly lower than the baselines\n",
    "print(\"\\nClassification Report:\\n\", classification_report(true_labels, all_predictions))\n",
    "print(\"\\nConfusion Matrix:\\n\", confusion_matrix(true_labels, all_predictions))\n",
    "print(\"\\nPrecision:\", precision)\n",
    "print(\"Recall:\", recall)\n",
    "print(\"F1 Score:\", f1)\n",
    "print(\"Accuracy:\", accuracy_score(true_labels, all_predictions))"
   ]
  },
  {
   "cell_type": "code",
   "execution_count": 17,
   "id": "60590162-523c-4b18-8428-92a765b3fbc4",
   "metadata": {},
   "outputs": [
    {
     "data": {
      "image/png": "[encoded data removed]",
      "text/plain": [
       "<Figure size 800x600 with 2 Axes>"
      ]
     },
     "metadata": {},
     "output_type": "display_data"
    }
   ],
   "source": [
    "import seaborn as sns\n",
    "import matplotlib.pyplot as plt\n",
    "import numpy as np\n",
    "from sklearn.metrics import confusion_matrix\n",
    "\n",
    "# Generate confusion matrix\n",
    "cm = confusion_matrix(true_labels, all_predictions)\n",
    "\n",
    "# Plot confusion matrix\n",
    "plt.figure(figsize=(8, 6))\n",
    "sns.heatmap(cm, annot=True, fmt='d', cmap='Blues', xticklabels=sorted(df['Score'].unique()), yticklabels=sorted(df['Score'].unique()))\n",
    "plt.title('Confusion Matrix')\n",
    "plt.xlabel('Predicted')\n",
    "plt.ylabel('Actual')\n",
    "plt.show()"
   ]
  },
  {
   "cell_type": "code",
   "execution_count": 18,
   "id": "835ed6b5-6965-447f-b0a2-127e8323d308",
   "metadata": {
    "scrolled": true
   },
   "outputs": [
    {
     "data": {
      "image/png": "[encoded data removed]",
      "text/plain": [
       "<Figure size 800x600 with 2 Axes>"
      ]
     },
     "metadata": {},
     "output_type": "display_data"
    }
   ],
   "source": [
    "# Generate confusion matrix\n",
    "cm = confusion_matrix(true_labels, all_predictions)\n",
    "\n",
    "# Normalize the confusion matrix to analyze smaller classes better\n",
    "cm_normalized = cm.astype('float') / cm.sum(axis=1)[:, np.newaxis]\n",
    "\n",
    "# Plot normalized confusion matrix\n",
    "plt.figure(figsize=(8, 6))\n",
    "sns.heatmap(cm_normalized, annot=True, fmt='.2f', cmap='Blues', xticklabels=sorted(df['Score'].unique()), yticklabels=sorted(df['Score'].unique()))\n",
    "plt.title('Normalized Confusion Matrix')\n",
    "plt.xlabel('Predicted')\n",
    "plt.ylabel('Actual')\n",
    "plt.show()"
   ]
  }
 ],
 "metadata": {
  "kernelspec": {
   "display_name": "Python 3 (ipykernel)",
   "language": "python",
   "name": "python3"
  },
  "language_info": {
   "codemirror_mode": {
    "name": "ipython",
    "version": 3
   },
   "file_extension": ".py",
   "mimetype": "text/x-python",
   "name": "python",
   "nbconvert_exporter": "python",
   "pygments_lexer": "ipython3",
   "version": "3.11.5"
  }
 },
 "nbformat": 4,
 "nbformat_minor": 5
}
